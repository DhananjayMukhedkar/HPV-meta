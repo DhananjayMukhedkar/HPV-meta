{
 "cells": [
  {
   "cell_type": "markdown",
   "metadata": {},
   "source": [
    "## Run Diamond\n",
    "\n",
    "Runs `diamond` with given reference files and input. \n",
    "Needs diamond tool on hdfs which loaded before running."
   ]
  },
  {
   "cell_type": "code",
   "execution_count": null,
   "metadata": {},
   "outputs": [],
   "source": [
    "import os\n",
    "import subprocess\n",
    "import sys\n",
    "import stat\n",
    "import traceback\n",
    "\n",
    "from hops import hdfs\n",
    "from pyspark import SparkContext\n",
    "import utils\n",
    "\n",
    "sc = SparkContext.getOrCreate()\n"
   ]
  },
  {
   "cell_type": "markdown",
   "metadata": {},
   "source": [
    "#### load arguments"
   ]
  },
  {
   "cell_type": "code",
   "execution_count": null,
   "metadata": {},
   "outputs": [],
   "source": [
    "\n",
    "\n",
    "args_full=utils.load_arguments(sys.argv)\n",
    "\n",
    "OUTPUT_DATASET=args_full[utils.OUTPUT_DATASET]\n",
    "INPUT_ROOT_PATH=args_full[utils.INPUT_ROOT_PATH]\n",
    "RUN_FOLDER=args_full[utils.RUN_FOLDER]\n",
    "WORK_PATH=os.path.join(OUTPUT_DATASET, RUN_FOLDER)\n",
    "args=args_full[utils.KEY_DIAMOND]\n",
    "# check of input and output root override\n",
    "if args_full.get(utils.INPUT_OVERRIDE):\n",
    "    INPUT_ROOT=args_full.get(utils.INPUT_OVERRIDE)\n",
    "else :\n",
    "   INPUT_ROOT=os.path.join(WORK_PATH,args['INPUT_ROOT'])\n",
    "if args_full.get(utils.OUTPUT_OVERRIDE):\n",
    "    OUTPUT_ROOT=args_full.get(utils.OUTPUT_OVERRIDE)\n",
    "else:\n",
    "    OUTPUT_ROOT=os.path.join(WORK_PATH,args['OUTPUT_ROOT'])\n",
    "\n",
    "\n",
    "\n",
    "\n",
    "\n",
    "REFERENCE_FASTA_PATH = args['REFERENCE_FASTA']\n",
    "DIAMOND_RUN= args['DIAMOND_RUN']\n",
    "TOP = args['TOP']\n",
    "COMPRESS = args['COMPRESS']\n",
    "OUTPUT_FORMAT=args['OUTPUT_FORMAT']\n",
    "OUTPUT_PREFIX=args['OUTPUT_PREFIX']\n",
    "ADVANCE_TUNING = args['ADVANCED_TUNING']\n",
    "LOG_DIR=args['LOGS_ROOT']\n",
    "DIAMOND_TOOL=args['DIAMOND_TOOL']\n",
    "\n",
    "inputRef= os.path.split(REFERENCE_FASTA_PATH)[1]\n",
    "DIAMOND_PREFIX='./diamond'\n",
    "SPACE=utils.SPACE"
   ]
  },
  {
   "cell_type": "markdown",
   "metadata": {
    "tags": [
     "parameters"
    ]
   },
   "source": [
    "#### Functions to load diamond and to make diamond db"
   ]
  },
  {
   "cell_type": "code",
   "execution_count": null,
   "metadata": {},
   "outputs": [],
   "source": [
    "# load diamond scripts from hdfs\n",
    "def install_diamond(diamond_path):\n",
    "    hdfs.copy_to_local(diamond_path)\n",
    "    st = os.stat(DIAMOND_PREFIX)\n",
    "    os.chmod(DIAMOND_PREFIX, st.st_mode | stat.S_IEXEC)\n",
    "\n",
    "\n",
    "### MAKE DIAMOND DB\n",
    "def make_diamond_db(reference_path):\n",
    "    \n",
    "    install_diamond(DIAMOND_TOOL)\n",
    "    diamond_DB=os.path.split(reference_path)[1]+'_DB.dmnd'\n",
    "    hdfs.copy_to_local(reference_path)\n",
    "    params={ 'makedb --in': inputRef, '-d':diamond_DB }\n",
    "    cmd_DB=utils.build_command(DIAMOND_PREFIX, params)\n",
    "      \n",
    "    status=subprocess.run(cmd_DB.split(' '),stdout=subprocess.PIPE,check=True)\n",
    "\n",
    "    if status.returncode==0:\n",
    "        hdfs_path=os.path.split(reference_path)[0]\n",
    "        hdfs.copy_to_hdfs(diamond_DB,hdfs_path,overwrite=True)\n",
    "        \n",
    "        return os.path.join(hdfs_path,diamond_DB)\n",
    "\n",
    "    return None\n",
    "\n",
    "\n"
   ]
  },
  {
   "cell_type": "markdown",
   "metadata": {},
   "source": [
    "#### Map function running diamond on single file"
   ]
  },
  {
   "cell_type": "code",
   "execution_count": null,
   "metadata": {},
   "outputs": [],
   "source": [
    "\n",
    "\n",
    "\n",
    "def apply_diamond(file,diamondDB_path):\n",
    "    \"\"\"\n",
    "    Runs diamond via subprcess on single file.\n",
    "    Output and diamond log is copied back to hdfs.\n",
    "\n",
    "    :param file:input fastq file:\n",
    "    :param diamondDB_path:\n",
    "    :return:\n",
    "    \"\"\"\n",
    "\n",
    "    #install diamond\n",
    "    if not os.path.exists(DIAMOND_PREFIX):\n",
    "        install_diamond(DIAMOND_TOOL)\n",
    "    \n",
    "    # download diamond DB file\n",
    "    diamond_DB=os.path.split(diamondDB_path)[1]\n",
    "    if not os.path.exists(diamond_DB):\n",
    "        hdfs.copy_to_local(diamondDB_path)\n",
    "        \n",
    "    # download input file\n",
    "    hdfs.copy_to_local(file, overwrite=True)\n",
    "    file=os.path.basename(file)\n",
    "    filename=os.path.splitext(os.path.splitext(file)[0])[0] # split file name without extension    \n",
    "            \n",
    "    outfile=OUTPUT_PREFIX+filename     \n",
    "\n",
    "    if ADVANCE_TUNING:\n",
    "        advanced_params = str(COMPRESS)+SPACE+ADVANCE_TUNING\n",
    "    else :\n",
    "        advanced_params = str(COMPRESS)\n",
    "        \n",
    "    parameters = { '-d': diamond_DB, '-q':file, '-o':outfile, '--top': TOP, '--outfmt':OUTPUT_FORMAT, '--compress': advanced_params}\n",
    "    cmd=utils.build_command(DIAMOND_PREFIX+SPACE+DIAMOND_RUN,parameters)\n",
    "    print('INFO: Running diamond with command:', cmd)\n",
    "       \n",
    "    log_file=os.path.splitext(outfile)[0]+'.txt'\n",
    "    try:\n",
    "        with open(log_file, \"w\") as f:\n",
    "            execStatus=subprocess.run(cmd.split(' '),stdout=f,stderr=f,check=True)\n",
    "\n",
    "        hdfs.copy_to_hdfs(log_file, LOG_DIR, overwrite=True)\n",
    "        if COMPRESS:\n",
    "            target=outfile+'.gz'\n",
    "        else:\n",
    "            target=outfile\n",
    "\n",
    "        if execStatus.returncode==0 and os.path.exists(target):\n",
    "            hdfs.copy_to_hdfs(target,OUTPUT_ROOT,overwrite=True)\n",
    "            os.remove(target)\n",
    "\n",
    "        return target\n",
    "    except subprocess.SubprocessError:\n",
    "        traceback.print_exc()\n",
    "        return False\n",
    "    finally:\n",
    "        parameters.clear()\n",
    "        os.remove(file)\n",
    "        if os.path.exists(log_file):\n",
    "            os.remove(log_file)\n",
    "\n",
    "    "
   ]
  },
  {
   "cell_type": "markdown",
   "metadata": {},
   "source": [
    "#### Run\n",
    "\n",
    "* first make diamond db\n",
    "* load input hdfs file paths\n",
    "* make spark rdd and map function to run parallel\n"
   ]
  },
  {
   "cell_type": "code",
   "execution_count": null,
   "metadata": {},
   "outputs": [],
   "source": [
    "# make diamond DB\n",
    "diamondDB_path=make_diamond_db(REFERENCE_FASTA_PATH)    \n",
    "\n",
    "# load input data\n",
    "inputFiles=utils.load_file_names(INPUT_ROOT)\n",
    "# run\n",
    "final=sc.parallelize(inputFiles,sc.getConf().get(\"spark.executor.instances\")).map(lambda x: apply_diamond(x,diamondDB_path) ).collect()\n",
    "\n",
    "\n"
   ]
  }
 ],
 "metadata": {
  "celltoolbar": "Tags",
  "kernelspec": {
   "name": "pycharm-de71e280",
   "language": "python",
   "display_name": "PyCharm (KI_local)"
  },
  "language_info": {
   "codemirror_mode": {
    "name": "python",
    "version": 3
   },
   "mimetype": "text/x-python",
   "name": "pyspark",
   "pygments_lexer": "python3"
  }
 },
 "nbformat": 4,
 "nbformat_minor": 4
}