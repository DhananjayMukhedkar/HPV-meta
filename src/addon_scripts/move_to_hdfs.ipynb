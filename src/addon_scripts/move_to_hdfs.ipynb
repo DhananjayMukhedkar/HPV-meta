{
 "cells": [
  {
   "cell_type": "code",
   "execution_count": 1,
   "metadata": {},
   "outputs": [
    {
     "name": "stdout",
     "output_type": "stream",
     "text": [
      "Started copying local path /srv/hops/staging/private_dirs/7b57783b049ca995977d24061e6472587d76f2632bce6f70a0c64889a6b84d8f/viral_bac_db to hdfs path hdfs:///Projects/TCGA_viruses/Resources/tools/kraken_db\n",
      "\n",
      "Finished copying\n",
      "\n"
     ]
    }
   ],
   "source": [
    "#import argparse\n",
    "from hops import hdfs\n",
    "\n",
    "source = \"/srv/hops/staging/private_dirs/7b57783b049ca995977d24061e6472587d76f2632bce6f70a0c64889a6b84d8f/viral_bac_db\"\n",
    "dest = \"hdfs:///Projects/TCGA_viruses/Resources/tools/kraken_db\"\n",
    "#hdfs.copy_to_local('hdfs:///Projects/TCGA_viruses/Resources/tools/kraken_db')\n",
    "\n",
    "hdfs.copy_to_hdfs(source, dest)\n"
   ]
  },
  {
   "cell_type": "code",
   "execution_count": null,
   "metadata": {},
   "outputs": [],
   "source": []
  }
 ],
 "metadata": {
  "kernelspec": {
   "display_name": "Python",
   "language": "python",
   "name": "python3"
  },
  "language_info": {
   "codemirror_mode": {
    "name": "ipython",
    "version": 3
   },
   "file_extension": ".py",
   "mimetype": "text/x-python",
   "name": "python",
   "nbconvert_exporter": "python",
   "pygments_lexer": "ipython3",
   "version": "3.6.10"
  }
 },
 "nbformat": 4,
 "nbformat_minor": 4
}