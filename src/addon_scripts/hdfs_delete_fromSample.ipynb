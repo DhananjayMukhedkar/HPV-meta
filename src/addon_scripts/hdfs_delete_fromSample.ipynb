{
 "cells": [
  {
   "cell_type": "code",
   "execution_count": 1,
   "metadata": {},
   "outputs": [
    {
     "name": "stdout",
     "output_type": "stream",
     "text": [
      "Starting Spark application\n"
     ]
    },
    {
     "data": {
      "text/html": [
       "<table>\n",
       "<tr><th>ID</th><th>YARN Application ID</th><th>Kind</th><th>State</th><th>Spark UI</th><th>Driver log</th></tr><tr><td>568</td><td>application_1615491195715_0674</td><td>pyspark</td><td>idle</td><td><a target=\"_blank\" href=\"http://resourcemanager.service.consul:8088/proxy/application_1615491195715_0674/\">Link</a></td><td><a target=\"_blank\" href=\"http://hadoop2:8042/node/containerlogs/container_e41_1615491195715_0674_01_000001/TCGA_viruses__dhananja\">Link</a></td></tr></table>"
      ],
      "text/plain": [
       "<IPython.core.display.HTML object>"
      ]
     },
     "metadata": {},
     "output_type": "display_data"
    },
    {
     "name": "stdout",
     "output_type": "stream",
     "text": [
      "SparkSession available as 'spark'.\n"
     ]
    }
   ],
   "source": [
    "import os\n",
    "from hops import hdfs\n",
    "import sys\n",
    "hdfs.add_module('hdfs:///Projects/4C/Jupyter/pipeline-nb/utils.py')\n",
    "import utils"
   ]
  },
  {
   "cell_type": "code",
   "execution_count": 2,
   "metadata": {},
   "outputs": [],
   "source": [
    "input_root=sys.argv[1]\n",
    "delete_root=sys.argv[2]\n",
    "\n"
   ]
  },
  {
   "cell_type": "code",
   "execution_count": 3,
   "metadata": {},
   "outputs": [],
   "source": [
    "R_IDENTIFIER = '_R'\n",
    "R1 = '_R1'\n",
    "R2 = '_R2'\n",
    "R1_SUFFIX_EXTENSION = '_R1.fq.gz'\n",
    "R2_SUFFIX_EXTENSION = '_R2.fq.gz'\n",
    "LANE_SEPARATOR = '_L'\n",
    "PART_SEPARATOR = 'part'\n",
    "UNDERSCORE_SEPARATOR = '_'\n",
    "SAMPLE_SEPARATOR = '_S'\n",
    "TRIM_PAIRED = 'paired_'\n",
    "TRIM_UNPAIRED = 'unpaired_'\n",
    "SORTED_PREFIX = 'sorted_'\n",
    "UNMAPPED_BAM = '_unmapped.bam'\n",
    "SAMTOOLS = 'samtools'\n",
    "SPACE = ' '\n",
    "EMPTY = ''\n",
    "\n",
    "def find_unique_names(files):\n",
    "    '''\n",
    "    get unique sample names from list of file names\n",
    "    '''\n",
    "    duplicates = []\n",
    "    for f in files:\n",
    "        f = os.path.split(f)[1]\n",
    "\n",
    "        if 'part' in f:  # if part exists then split from 'part' keyword. This would also exclude paired or unpaired keywors\n",
    "            f = f.split(PART_SEPARATOR)[1]\n",
    "            f = f.split(UNDERSCORE_SEPARATOR, 1)[1]\n",
    "        else:  # check if paired or unpaired exists and exclude\n",
    "            l = f.split(TRIM_PAIRED)\n",
    "            f = l[-1]  # always  use the last element which has the sample name\n",
    "\n",
    "        duplicates.append(f)\n",
    "\n",
    "    return list(set(duplicates))  # return only unique names\n",
    "\n",
    "\n",
    "all_files=hdfs.ls(hdfs.get_plain_path(input_root))\n",
    "print('number of input files', len(all_files))"
   ]
  },
  {
   "cell_type": "code",
   "execution_count": 4,
   "metadata": {},
   "outputs": [],
   "source": [
    "# take only file names\n",
    "inputFiles=[os.path.basename(f) for f in all_files]\n",
    "# get unique sample name\n",
    "uniques=utils.find_samples_with_lane(inputFiles)\n",
    "print('#### Unique Samples ####')\n",
    "utils.print_on_new_line(uniques)\n",
    "\n",
    "# deleting files\n",
    "deleted_files=[hdfs.delete(os.path.join(delete_root,x)) for x in uniques]\n",
    "print('#### Deleted files ####')\n",
    "utils.print_on_new_line(deleted_files)"
   ]
  },
  {
   "cell_type": "code",
   "execution_count": 5,
   "metadata": {},
   "outputs": [],
   "source": []
  },
  {
   "cell_type": "code",
   "execution_count": 6,
   "metadata": {},
   "outputs": [
    {
     "name": "stdout",
     "output_type": "stream",
     "text": [
      "499"
     ]
    }
   ],
   "source": []
  },
  {
   "cell_type": "code",
   "execution_count": 7,
   "metadata": {},
   "outputs": [],
   "source": []
  },
  {
   "cell_type": "code",
   "execution_count": 9,
   "metadata": {},
   "outputs": [
    {
     "name": "stdout",
     "output_type": "stream",
     "text": [
      "['hdfs://rpc.namenode.service.consul:8020/Projects/TCGA_viruses/Kraken/report/trim_00d4eec7-e2e3-4c52-958d-d181101fe0ec_gdc_realn_rehead_NH_unmapped_report.txt.gz', 'hdfs://rpc.namenode.service.consul:8020/Projects/TCGA_viruses/Kraken/report/trim_014f2bf3-fa40-4ab5-9bdc-5d4ee4fce819_gdc_realn_rehead_NH_unmapped_report.txt.gz', 'hdfs://rpc.namenode.service.consul:8020/Projects/TCGA_viruses/Kraken/report/trim_0194920a-df53-4c3b-9c77-97b58f0e816d_gdc_realn_rehead_NH_unmapped_report.txt.gz', 'hdfs://rpc.namenode.service.consul:8020/Projects/TCGA_viruses/Kraken/report/trim_0219519d-e771-4469-bbdf-4eee8dc99916_gdc_realn_rehead_NH_unmapped_report.txt.gz', 'hdfs://rpc.namenode.service.consul:8020/Projects/TCGA_viruses/Kraken/report/trim_02866a6b-567f-49e4-8d31-3750977f9f88_gdc_realn_rehead_NH_unmapped_report.txt.gz']"
     ]
    }
   ],
   "source": []
  },
  {
   "cell_type": "code",
   "execution_count": 11,
   "metadata": {},
   "outputs": [
    {
     "name": "stdout",
     "output_type": "stream",
     "text": [
      "[None, None, None, None, None, None, None, None, None, None, None, None, None, None, None, None, None, None, None, None, None, None, None, None, None, None, None, None, None, None, None, None, None, None, None, None, None, None, None, None, None, None, None, None, None, None, None, None, None, None, None, None, None, None, None, None, None, None, None, None, None, None, None, None, None, None, None, None, None, None, None, None, None, None, None, None, None, None, None, None, None, None, None, None, None, None, None, None, None, None, None, None, None, None, None, None, None, None, None, None, None, None, None, None, None, None, None, None, None, None, None, None, None, None, None, None, None, None, None, None, None, None, None, None, None, None, None, None, None, None, None, None, None, None, None, None, None, None, None, None, None, None, None, None, None, None, None, None, None, None, None, None, None, None, None, None, None, None, None, None, None, None, None, None, None, None, None, None, None, None, None, None, None, None, None, None, None, None, None, None, None, None, None, None, None, None, None, None, None, None, None, None, None, None, None, None, None, None, None, None, None, None, None, None, None, None, None, None, None, None, None, None, None, None, None, None, None, None, None, None, None, None, None, None, None, None, None, None, None, None, None, None, None, None, None, None, None, None, None, None, None, None, None, None, None, None, None, None, None, None, None, None, None, None, None, None, None, None, None, None, None, None, None, None, None, None, None, None, None, None, None, None, None, None, None, None, None, None, None, None, None, None, None, None, None, None, None, None, None, None, None, None, None, None, None, None, None, None, None, None, None, None, None, None, None, None, None, None, None, None, None, None, None, None, None, None, None, None, None, None, None, None, None, None, None, None, None, None, None, None, None, None, None, None, None, None, None, None, None, None, None, None, None, None, None, None, None, None, None, None, None, None, None, None, None, None, None, None, None, None, None, None, None, None, None, None, None, None, None, None, None, None, None, None, None, None, None, None, None, None, None, None, None, None, None, None, None, None, None, None, None, None, None, None, None, None, None, None, None, None, None, None, None, None, None, None, None, None, None, None, None, None, None, None, None, None, None, None, None, None, None, None, None, None, None, None, None, None, None, None, None, None, None, None, None, None, None, None, None, None, None, None, None, None, None, None, None, None, None, None, None, None, None, None, None, None, None, None, None, None, None, None, None, None, None, None, None, None, None, None, None, None, None, None, None, None, None, None, None, None, None, None, None, None, None, None, None, None, None, None, None, None, None, None, None, None, None, None, None]"
     ]
    }
   ],
   "source": []
  }
 ],
 "metadata": {
  "kernelspec": {
   "display_name": "PySpark",
   "language": "python",
   "name": "pysparkkernel"
  },
  "language_info": {
   "codemirror_mode": {
    "name": "python",
    "version": 3
   },
   "mimetype": "text/x-python",
   "name": "pyspark",
   "pygments_lexer": "python3"
  }
 },
 "nbformat": 4,
 "nbformat_minor": 4
}